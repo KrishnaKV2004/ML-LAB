{
 "cells": [
  {
   "cell_type": "markdown",
   "id": "c29bba5b",
   "metadata": {},
   "source": [
    "### Importing Libraries"
   ]
  },
  {
   "cell_type": "code",
   "execution_count": 1,
   "id": "fe47c2e9",
   "metadata": {},
   "outputs": [],
   "source": [
    "import numpy as np\n",
    "import pandas as pd\n",
    "import seaborn as sns\n",
    "import matplotlib.pyplot as plt"
   ]
  },
  {
   "cell_type": "markdown",
   "id": "e06067fc-f587-4517-a7d4-d3e4efbe0af5",
   "metadata": {},
   "source": [
    "### Numpy Array (Age)"
   ]
  },
  {
   "cell_type": "code",
   "execution_count": 2,
   "id": "f9b4b3f9",
   "metadata": {},
   "outputs": [
    {
     "data": {
      "text/plain": [
       "array([83, 99, 67, 81, 40, 56, 75, 18, 83, 82, 29, 21, 87, 99, 19, 64, 80,\n",
       "       73, 42, 25, 64, 79, 61, 43, 20, 92, 48, 29, 78, 27, 60, 88, 79, 63,\n",
       "       58, 48, 21, 31, 44, 43, 47, 34, 91, 55, 76, 47, 23, 50, 38, 54, 59,\n",
       "       50, 74, 64, 97, 23, 63, 19, 20, 25, 56, 83, 43, 23, 42, 29, 79, 37,\n",
       "       63, 54, 29, 36, 30, 54, 91, 89, 77, 83, 73, 31, 72, 46, 19, 22, 71,\n",
       "       87, 62, 61, 95, 96, 70, 33, 99, 92, 38, 61, 46, 91, 21, 61])"
      ]
     },
     "execution_count": 2,
     "metadata": {},
     "output_type": "execute_result"
    }
   ],
   "source": [
    "age = np.random.randint(18, 101, size=100)\n",
    "age"
   ]
  },
  {
   "cell_type": "markdown",
   "id": "206c3bca",
   "metadata": {},
   "source": [
    "### Numpy Array (Height)"
   ]
  },
  {
   "cell_type": "code",
   "execution_count": 3,
   "id": "8ce868ad",
   "metadata": {},
   "outputs": [],
   "source": [
    "height = np.random.randint(130, 191, size=90)\n",
    "outliers = np.random.randint(300, 1001, size=10)"
   ]
  },
  {
   "cell_type": "code",
   "execution_count": 4,
   "id": "fd87f838",
   "metadata": {},
   "outputs": [
    {
     "data": {
      "text/plain": [
       "array([187, 133, 149, 182, 173, 184, 178, 144, 167, 180, 145, 186, 189,\n",
       "       183, 185, 167, 185, 175, 145, 154, 140, 135, 145, 138, 172, 138,\n",
       "       160, 133, 185, 153, 170, 167, 133, 161, 151, 141, 171, 140, 131,\n",
       "       155, 156, 186, 168, 190, 171, 132, 173, 172, 183, 147, 168, 190,\n",
       "       186, 133, 145, 146, 150, 147, 162, 168, 141, 146, 152, 142, 158,\n",
       "       157, 161, 173, 157, 130, 181, 134, 176, 150, 174, 172, 187, 184,\n",
       "       147, 156, 187, 147, 163, 181, 174, 171, 177, 151, 172, 189])"
      ]
     },
     "execution_count": 4,
     "metadata": {},
     "output_type": "execute_result"
    }
   ],
   "source": [
    "height"
   ]
  },
  {
   "cell_type": "code",
   "execution_count": 5,
   "id": "8b48e1e2",
   "metadata": {},
   "outputs": [
    {
     "data": {
      "text/plain": [
       "array([669, 847, 672, 437, 455, 310, 542, 961, 374, 437])"
      ]
     },
     "execution_count": 5,
     "metadata": {},
     "output_type": "execute_result"
    }
   ],
   "source": [
    "outliers"
   ]
  },
  {
   "cell_type": "markdown",
   "id": "3d15f8ec",
   "metadata": {},
   "source": [
    "### Concatenation"
   ]
  },
  {
   "cell_type": "code",
   "execution_count": 6,
   "id": "2f7e751f",
   "metadata": {},
   "outputs": [
    {
     "data": {
      "text/plain": [
       "array([187, 133, 149, 182, 173, 184, 178, 144, 167, 180, 145, 186, 189,\n",
       "       183, 185, 167, 185, 175, 145, 154, 140, 135, 145, 138, 172, 138,\n",
       "       160, 133, 185, 153, 170, 167, 133, 161, 151, 141, 171, 140, 131,\n",
       "       155, 156, 186, 168, 190, 171, 132, 173, 172, 183, 147, 168, 190,\n",
       "       186, 133, 145, 146, 150, 147, 162, 168, 141, 146, 152, 142, 158,\n",
       "       157, 161, 173, 157, 130, 181, 134, 176, 150, 174, 172, 187, 184,\n",
       "       147, 156, 187, 147, 163, 181, 174, 171, 177, 151, 172, 189, 669,\n",
       "       847, 672, 437, 455, 310, 542, 961, 374, 437])"
      ]
     },
     "execution_count": 6,
     "metadata": {},
     "output_type": "execute_result"
    }
   ],
   "source": [
    "height = np.concatenate((height, outliers))\n",
    "height"
   ]
  },
  {
   "cell_type": "markdown",
   "id": "5aff87c7",
   "metadata": {},
   "source": [
    "### Numpy Array (Gender)"
   ]
  },
  {
   "cell_type": "code",
   "execution_count": 7,
   "id": "1dea3a03",
   "metadata": {},
   "outputs": [
    {
     "data": {
      "text/plain": [
       "array(['Female', 'Female', 'None', 'Male', 'None', 'Female', 'Male',\n",
       "       'None', 'Female', 'Male', 'None', 'Male', 'None', 'None', 'Male',\n",
       "       'Female', 'Female', 'Male', 'Female', 'Male', 'Female', 'Male',\n",
       "       'Female', 'None', 'None', 'None', 'None', 'None', 'Male', 'Female',\n",
       "       'None', 'None', 'None', 'None', 'Female', 'Male', 'Male', 'None',\n",
       "       'None', 'None', 'None', 'Female', 'Male', 'Male', 'Male', 'None',\n",
       "       'Female', 'None', 'Female', 'Male', 'Male', 'Male', 'None',\n",
       "       'Female', 'Female', 'Male', 'None', 'None', 'Male', 'None', 'None',\n",
       "       'Female', 'Male', 'Female', 'Female', 'Male', 'Female', 'Male',\n",
       "       'Male', 'Male', 'Female', 'Male', 'Male', 'Female', 'Female',\n",
       "       'Male', 'Female', 'Female', 'None', 'Female', 'None', 'Male',\n",
       "       'None', 'Male', 'Male', 'None', 'None', 'None', 'None', 'Female',\n",
       "       'Male', 'Female', 'Male', 'None', 'Male', 'Female', 'Male', 'Male',\n",
       "       'Female', 'Male'], dtype='<U6')"
      ]
     },
     "execution_count": 7,
     "metadata": {},
     "output_type": "execute_result"
    }
   ],
   "source": [
    "genders = ['Male', 'Female', 'None']\n",
    "gender = np.random.choice(genders, size=100)\n",
    "gender"
   ]
  },
  {
   "cell_type": "markdown",
   "id": "45164628",
   "metadata": {},
   "source": [
    "### Numpy Array (Salary)"
   ]
  },
  {
   "cell_type": "code",
   "execution_count": 8,
   "id": "2460d375",
   "metadata": {},
   "outputs": [
    {
     "data": {
      "text/plain": [
       "array([70324., 61241., 99824., 26634., 18093.,  6914., 64581., 79666.,\n",
       "       73312.,    nan, 74424., 70755., 11712.,  1552., 66493., 75373.,\n",
       "       98994., 58132., 79944.,    nan, 11310., 72595., 69805., 26912.,\n",
       "       56789., 90433., 32465., 62240., 22509.,    nan, 60001., 81820.,\n",
       "       21725., 26922., 78638., 78817., 99954.,  9527., 71144.,    nan,\n",
       "       44933., 49643., 32505., 32236., 35856.,  3463., 65491.,  2564.,\n",
       "       96504.,    nan, 98330., 87261., 25465., 67302., 86287., 64491.,\n",
       "        7268., 49849., 82849.,    nan, 69660., 47621., 66234., 40753.,\n",
       "       97653., 31520., 55550., 71361.,  4359.,    nan, 24031., 92234.,\n",
       "       76401., 31907., 92480., 81880., 86594., 34603., 17599.,    nan,\n",
       "       49147., 58189., 67026., 93241., 22098., 50612., 79703., 83944.,\n",
       "       66956.,    nan, 31974., 27973., 17581., 21056., 85020., 81519.,\n",
       "       17170., 54109., 53902.,    nan])"
      ]
     },
     "execution_count": 8,
     "metadata": {},
     "output_type": "execute_result"
    }
   ],
   "source": [
    "salary = []\n",
    "\n",
    "for i in range(1, 101):\n",
    "    \n",
    "    if i%10==0:\n",
    "        salary.append(np.nan)\n",
    "    else:\n",
    "        salary.append(np.random.randint(1000, 100001))\n",
    "        \n",
    "salary = np.array(salary)\n",
    "salary"
   ]
  },
  {
   "cell_type": "markdown",
   "id": "1614fbcc",
   "metadata": {},
   "source": [
    "### Dictionary To DataFrame"
   ]
  },
  {
   "cell_type": "code",
   "execution_count": 9,
   "id": "6478ea20",
   "metadata": {},
   "outputs": [
    {
     "data": {
      "text/plain": [
       "{'Age': array([83, 99, 67, 81, 40, 56, 75, 18, 83, 82, 29, 21, 87, 99, 19, 64, 80,\n",
       "        73, 42, 25, 64, 79, 61, 43, 20, 92, 48, 29, 78, 27, 60, 88, 79, 63,\n",
       "        58, 48, 21, 31, 44, 43, 47, 34, 91, 55, 76, 47, 23, 50, 38, 54, 59,\n",
       "        50, 74, 64, 97, 23, 63, 19, 20, 25, 56, 83, 43, 23, 42, 29, 79, 37,\n",
       "        63, 54, 29, 36, 30, 54, 91, 89, 77, 83, 73, 31, 72, 46, 19, 22, 71,\n",
       "        87, 62, 61, 95, 96, 70, 33, 99, 92, 38, 61, 46, 91, 21, 61]),\n",
       " 'Height': array([187, 133, 149, 182, 173, 184, 178, 144, 167, 180, 145, 186, 189,\n",
       "        183, 185, 167, 185, 175, 145, 154, 140, 135, 145, 138, 172, 138,\n",
       "        160, 133, 185, 153, 170, 167, 133, 161, 151, 141, 171, 140, 131,\n",
       "        155, 156, 186, 168, 190, 171, 132, 173, 172, 183, 147, 168, 190,\n",
       "        186, 133, 145, 146, 150, 147, 162, 168, 141, 146, 152, 142, 158,\n",
       "        157, 161, 173, 157, 130, 181, 134, 176, 150, 174, 172, 187, 184,\n",
       "        147, 156, 187, 147, 163, 181, 174, 171, 177, 151, 172, 189, 669,\n",
       "        847, 672, 437, 455, 310, 542, 961, 374, 437]),\n",
       " 'Gender': array(['Female', 'Female', 'None', 'Male', 'None', 'Female', 'Male',\n",
       "        'None', 'Female', 'Male', 'None', 'Male', 'None', 'None', 'Male',\n",
       "        'Female', 'Female', 'Male', 'Female', 'Male', 'Female', 'Male',\n",
       "        'Female', 'None', 'None', 'None', 'None', 'None', 'Male', 'Female',\n",
       "        'None', 'None', 'None', 'None', 'Female', 'Male', 'Male', 'None',\n",
       "        'None', 'None', 'None', 'Female', 'Male', 'Male', 'Male', 'None',\n",
       "        'Female', 'None', 'Female', 'Male', 'Male', 'Male', 'None',\n",
       "        'Female', 'Female', 'Male', 'None', 'None', 'Male', 'None', 'None',\n",
       "        'Female', 'Male', 'Female', 'Female', 'Male', 'Female', 'Male',\n",
       "        'Male', 'Male', 'Female', 'Male', 'Male', 'Female', 'Female',\n",
       "        'Male', 'Female', 'Female', 'None', 'Female', 'None', 'Male',\n",
       "        'None', 'Male', 'Male', 'None', 'None', 'None', 'None', 'Female',\n",
       "        'Male', 'Female', 'Male', 'None', 'Male', 'Female', 'Male', 'Male',\n",
       "        'Female', 'Male'], dtype='<U6'),\n",
       " 'Salary': array([70324., 61241., 99824., 26634., 18093.,  6914., 64581., 79666.,\n",
       "        73312.,    nan, 74424., 70755., 11712.,  1552., 66493., 75373.,\n",
       "        98994., 58132., 79944.,    nan, 11310., 72595., 69805., 26912.,\n",
       "        56789., 90433., 32465., 62240., 22509.,    nan, 60001., 81820.,\n",
       "        21725., 26922., 78638., 78817., 99954.,  9527., 71144.,    nan,\n",
       "        44933., 49643., 32505., 32236., 35856.,  3463., 65491.,  2564.,\n",
       "        96504.,    nan, 98330., 87261., 25465., 67302., 86287., 64491.,\n",
       "         7268., 49849., 82849.,    nan, 69660., 47621., 66234., 40753.,\n",
       "        97653., 31520., 55550., 71361.,  4359.,    nan, 24031., 92234.,\n",
       "        76401., 31907., 92480., 81880., 86594., 34603., 17599.,    nan,\n",
       "        49147., 58189., 67026., 93241., 22098., 50612., 79703., 83944.,\n",
       "        66956.,    nan, 31974., 27973., 17581., 21056., 85020., 81519.,\n",
       "        17170., 54109., 53902.,    nan])}"
      ]
     },
     "execution_count": 9,
     "metadata": {},
     "output_type": "execute_result"
    }
   ],
   "source": [
    "dictionary = {\n",
    "    'Age' : age,\n",
    "    'Height': height,\n",
    "    'Gender' : gender,\n",
    "    'Salary' : salary\n",
    "}\n",
    "\n",
    "dictionary"
   ]
  },
  {
   "cell_type": "code",
   "execution_count": 10,
   "id": "f041fb72",
   "metadata": {},
   "outputs": [
    {
     "data": {
      "text/html": [
       "<div>\n",
       "<style scoped>\n",
       "    .dataframe tbody tr th:only-of-type {\n",
       "        vertical-align: middle;\n",
       "    }\n",
       "\n",
       "    .dataframe tbody tr th {\n",
       "        vertical-align: top;\n",
       "    }\n",
       "\n",
       "    .dataframe thead th {\n",
       "        text-align: right;\n",
       "    }\n",
       "</style>\n",
       "<table border=\"1\" class=\"dataframe\">\n",
       "  <thead>\n",
       "    <tr style=\"text-align: right;\">\n",
       "      <th></th>\n",
       "      <th>Age</th>\n",
       "      <th>Height</th>\n",
       "      <th>Gender</th>\n",
       "      <th>Salary</th>\n",
       "    </tr>\n",
       "  </thead>\n",
       "  <tbody>\n",
       "    <tr>\n",
       "      <th>0</th>\n",
       "      <td>83</td>\n",
       "      <td>187</td>\n",
       "      <td>Female</td>\n",
       "      <td>70324.0</td>\n",
       "    </tr>\n",
       "    <tr>\n",
       "      <th>1</th>\n",
       "      <td>99</td>\n",
       "      <td>133</td>\n",
       "      <td>Female</td>\n",
       "      <td>61241.0</td>\n",
       "    </tr>\n",
       "    <tr>\n",
       "      <th>2</th>\n",
       "      <td>67</td>\n",
       "      <td>149</td>\n",
       "      <td>None</td>\n",
       "      <td>99824.0</td>\n",
       "    </tr>\n",
       "    <tr>\n",
       "      <th>3</th>\n",
       "      <td>81</td>\n",
       "      <td>182</td>\n",
       "      <td>Male</td>\n",
       "      <td>26634.0</td>\n",
       "    </tr>\n",
       "    <tr>\n",
       "      <th>4</th>\n",
       "      <td>40</td>\n",
       "      <td>173</td>\n",
       "      <td>None</td>\n",
       "      <td>18093.0</td>\n",
       "    </tr>\n",
       "    <tr>\n",
       "      <th>...</th>\n",
       "      <td>...</td>\n",
       "      <td>...</td>\n",
       "      <td>...</td>\n",
       "      <td>...</td>\n",
       "    </tr>\n",
       "    <tr>\n",
       "      <th>95</th>\n",
       "      <td>61</td>\n",
       "      <td>310</td>\n",
       "      <td>Female</td>\n",
       "      <td>81519.0</td>\n",
       "    </tr>\n",
       "    <tr>\n",
       "      <th>96</th>\n",
       "      <td>46</td>\n",
       "      <td>542</td>\n",
       "      <td>Male</td>\n",
       "      <td>17170.0</td>\n",
       "    </tr>\n",
       "    <tr>\n",
       "      <th>97</th>\n",
       "      <td>91</td>\n",
       "      <td>961</td>\n",
       "      <td>Male</td>\n",
       "      <td>54109.0</td>\n",
       "    </tr>\n",
       "    <tr>\n",
       "      <th>98</th>\n",
       "      <td>21</td>\n",
       "      <td>374</td>\n",
       "      <td>Female</td>\n",
       "      <td>53902.0</td>\n",
       "    </tr>\n",
       "    <tr>\n",
       "      <th>99</th>\n",
       "      <td>61</td>\n",
       "      <td>437</td>\n",
       "      <td>Male</td>\n",
       "      <td>NaN</td>\n",
       "    </tr>\n",
       "  </tbody>\n",
       "</table>\n",
       "<p>100 rows × 4 columns</p>\n",
       "</div>"
      ],
      "text/plain": [
       "    Age  Height  Gender   Salary\n",
       "0    83     187  Female  70324.0\n",
       "1    99     133  Female  61241.0\n",
       "2    67     149    None  99824.0\n",
       "3    81     182    Male  26634.0\n",
       "4    40     173    None  18093.0\n",
       "..  ...     ...     ...      ...\n",
       "95   61     310  Female  81519.0\n",
       "96   46     542    Male  17170.0\n",
       "97   91     961    Male  54109.0\n",
       "98   21     374  Female  53902.0\n",
       "99   61     437    Male      NaN\n",
       "\n",
       "[100 rows x 4 columns]"
      ]
     },
     "execution_count": 10,
     "metadata": {},
     "output_type": "execute_result"
    }
   ],
   "source": [
    "dataframe = pd.DataFrame(dictionary)\n",
    "dataframe"
   ]
  },
  {
   "cell_type": "markdown",
   "id": "e7b3178d",
   "metadata": {},
   "source": [
    "### BoxPlot"
   ]
  },
  {
   "cell_type": "code",
   "execution_count": 11,
   "id": "98fb40a2",
   "metadata": {},
   "outputs": [
    {
     "data": {
      "image/png": "[encoded data removed]",
      "text/plain": [
       "<Figure size 1000x600 with 3 Axes>"
      ]
     },
     "metadata": {},
     "output_type": "display_data"
    }
   ],
   "source": [
    "plt.figure(figsize=(10,6))\n",
    "\n",
    "plt.subplot(1,3,1)\n",
    "sns.boxplot(data=dataframe[['Salary']])\n",
    "\n",
    "plt.subplot(1,3,2)\n",
    "sns.boxplot(data=dataframe[['Age']])\n",
    "\n",
    "plt.subplot(1,3,3)\n",
    "sns.boxplot(data=dataframe[['Height']])\n",
    "\n",
    "plt.show()"
   ]
  },
  {
   "cell_type": "markdown",
   "id": "f4e7fb27",
   "metadata": {},
   "source": [
    "### Scatter Plot"
   ]
  },
  {
   "cell_type": "code",
   "execution_count": 12,
   "id": "d7e94a5f",
   "metadata": {},
   "outputs": [
    {
     "data": {
      "image/png": "[encoded data removed]",
      "text/plain": [
       "<Figure size 1200x500 with 2 Axes>"
      ]
     },
     "metadata": {},
     "output_type": "display_data"
    }
   ],
   "source": [
    "plt.figure(figsize=(12, 5))\n",
    "\n",
    "plt.subplot(1, 2, 1)\n",
    "sns.scatterplot(x=dataframe['Age'], y=dataframe['Salary'])\n",
    "plt.title('Age vs Salary')\n",
    "plt.xlabel('Age')\n",
    "plt.ylabel('Salary')\n",
    "\n",
    "plt.subplot(1, 2, 2)\n",
    "sns.scatterplot(x=dataframe['Age'], y=dataframe['Height'])\n",
    "plt.title('Age vs Height')\n",
    "plt.xlabel('Age')\n",
    "plt.ylabel('Height')\n",
    "\n",
    "plt.tight_layout()\n",
    "plt.show()"
   ]
  },
  {
   "cell_type": "markdown",
   "id": "cd3cb29d",
   "metadata": {},
   "source": [
    "### Shape Of Data Frame"
   ]
  },
  {
   "cell_type": "code",
   "execution_count": 13,
   "id": "d9efa194",
   "metadata": {},
   "outputs": [
    {
     "data": {
      "text/plain": [
       "(100, 4)"
      ]
     },
     "execution_count": 13,
     "metadata": {},
     "output_type": "execute_result"
    }
   ],
   "source": [
    "dataframe.shape"
   ]
  },
  {
   "cell_type": "markdown",
   "id": "12d612b4",
   "metadata": {},
   "source": [
    "### Null/NaN Values"
   ]
  },
  {
   "cell_type": "code",
   "execution_count": 14,
   "id": "6afe9b20",
   "metadata": {},
   "outputs": [
    {
     "data": {
      "text/plain": [
       "Age        0\n",
       "Height     0\n",
       "Gender     0\n",
       "Salary    10\n",
       "dtype: int64"
      ]
     },
     "execution_count": 14,
     "metadata": {},
     "output_type": "execute_result"
    }
   ],
   "source": [
    "dataframe.isnull().sum()"
   ]
  },
  {
   "cell_type": "markdown",
   "id": "26dafb5e",
   "metadata": {},
   "source": [
    "### Info And Stats"
   ]
  },
  {
   "cell_type": "code",
   "execution_count": 15,
   "id": "ce4d78c5",
   "metadata": {},
   "outputs": [
    {
     "name": "stdout",
     "output_type": "stream",
     "text": [
      "<class 'pandas.core.frame.DataFrame'>\n",
      "RangeIndex: 100 entries, 0 to 99\n",
      "Data columns (total 4 columns):\n",
      " #   Column  Non-Null Count  Dtype  \n",
      "---  ------  --------------  -----  \n",
      " 0   Age     100 non-null    int32  \n",
      " 1   Height  100 non-null    int32  \n",
      " 2   Gender  100 non-null    object \n",
      " 3   Salary  90 non-null     float64\n",
      "dtypes: float64(1), int32(2), object(1)\n",
      "memory usage: 2.5+ KB\n"
     ]
    }
   ],
   "source": [
    "dataframe.info()"
   ]
  },
  {
   "cell_type": "code",
   "execution_count": 16,
   "id": "1886425e",
   "metadata": {},
   "outputs": [
    {
     "data": {
      "text/html": [
       "<div>\n",
       "<style scoped>\n",
       "    .dataframe tbody tr th:only-of-type {\n",
       "        vertical-align: middle;\n",
       "    }\n",
       "\n",
       "    .dataframe tbody tr th {\n",
       "        vertical-align: top;\n",
       "    }\n",
       "\n",
       "    .dataframe thead th {\n",
       "        text-align: right;\n",
       "    }\n",
       "</style>\n",
       "<table border=\"1\" class=\"dataframe\">\n",
       "  <thead>\n",
       "    <tr style=\"text-align: right;\">\n",
       "      <th></th>\n",
       "      <th>Age</th>\n",
       "      <th>Height</th>\n",
       "      <th>Salary</th>\n",
       "    </tr>\n",
       "  </thead>\n",
       "  <tbody>\n",
       "    <tr>\n",
       "      <th>count</th>\n",
       "      <td>100.000000</td>\n",
       "      <td>100.000000</td>\n",
       "      <td>90.000000</td>\n",
       "    </tr>\n",
       "    <tr>\n",
       "      <th>mean</th>\n",
       "      <td>56.530000</td>\n",
       "      <td>202.770000</td>\n",
       "      <td>54750.344444</td>\n",
       "    </tr>\n",
       "    <tr>\n",
       "      <th>std</th>\n",
       "      <td>24.419505</td>\n",
       "      <td>139.841025</td>\n",
       "      <td>28561.528304</td>\n",
       "    </tr>\n",
       "    <tr>\n",
       "      <th>min</th>\n",
       "      <td>18.000000</td>\n",
       "      <td>130.000000</td>\n",
       "      <td>1552.000000</td>\n",
       "    </tr>\n",
       "    <tr>\n",
       "      <th>25%</th>\n",
       "      <td>35.500000</td>\n",
       "      <td>147.000000</td>\n",
       "      <td>28859.750000</td>\n",
       "    </tr>\n",
       "    <tr>\n",
       "      <th>50%</th>\n",
       "      <td>57.000000</td>\n",
       "      <td>168.000000</td>\n",
       "      <td>60621.000000</td>\n",
       "    </tr>\n",
       "    <tr>\n",
       "      <th>75%</th>\n",
       "      <td>78.250000</td>\n",
       "      <td>183.250000</td>\n",
       "      <td>78772.250000</td>\n",
       "    </tr>\n",
       "    <tr>\n",
       "      <th>max</th>\n",
       "      <td>99.000000</td>\n",
       "      <td>961.000000</td>\n",
       "      <td>99954.000000</td>\n",
       "    </tr>\n",
       "  </tbody>\n",
       "</table>\n",
       "</div>"
      ],
      "text/plain": [
       "              Age      Height        Salary\n",
       "count  100.000000  100.000000     90.000000\n",
       "mean    56.530000  202.770000  54750.344444\n",
       "std     24.419505  139.841025  28561.528304\n",
       "min     18.000000  130.000000   1552.000000\n",
       "25%     35.500000  147.000000  28859.750000\n",
       "50%     57.000000  168.000000  60621.000000\n",
       "75%     78.250000  183.250000  78772.250000\n",
       "max     99.000000  961.000000  99954.000000"
      ]
     },
     "execution_count": 16,
     "metadata": {},
     "output_type": "execute_result"
    }
   ],
   "source": [
    "dataframe.describe()"
   ]
  },
  {
   "cell_type": "markdown",
   "id": "7a0c6dfc",
   "metadata": {},
   "source": [
    "### Copy Of DataFrame"
   ]
  },
  {
   "cell_type": "code",
   "execution_count": 17,
   "id": "d71b6967",
   "metadata": {},
   "outputs": [
    {
     "data": {
      "text/html": [
       "<div>\n",
       "<style scoped>\n",
       "    .dataframe tbody tr th:only-of-type {\n",
       "        vertical-align: middle;\n",
       "    }\n",
       "\n",
       "    .dataframe tbody tr th {\n",
       "        vertical-align: top;\n",
       "    }\n",
       "\n",
       "    .dataframe thead th {\n",
       "        text-align: right;\n",
       "    }\n",
       "</style>\n",
       "<table border=\"1\" class=\"dataframe\">\n",
       "  <thead>\n",
       "    <tr style=\"text-align: right;\">\n",
       "      <th></th>\n",
       "      <th>Age</th>\n",
       "      <th>Height</th>\n",
       "      <th>Gender</th>\n",
       "      <th>Salary</th>\n",
       "    </tr>\n",
       "  </thead>\n",
       "  <tbody>\n",
       "    <tr>\n",
       "      <th>0</th>\n",
       "      <td>83</td>\n",
       "      <td>187</td>\n",
       "      <td>Female</td>\n",
       "      <td>70324.0</td>\n",
       "    </tr>\n",
       "    <tr>\n",
       "      <th>1</th>\n",
       "      <td>99</td>\n",
       "      <td>133</td>\n",
       "      <td>Female</td>\n",
       "      <td>61241.0</td>\n",
       "    </tr>\n",
       "    <tr>\n",
       "      <th>2</th>\n",
       "      <td>67</td>\n",
       "      <td>149</td>\n",
       "      <td>None</td>\n",
       "      <td>99824.0</td>\n",
       "    </tr>\n",
       "    <tr>\n",
       "      <th>3</th>\n",
       "      <td>81</td>\n",
       "      <td>182</td>\n",
       "      <td>Male</td>\n",
       "      <td>26634.0</td>\n",
       "    </tr>\n",
       "    <tr>\n",
       "      <th>4</th>\n",
       "      <td>40</td>\n",
       "      <td>173</td>\n",
       "      <td>None</td>\n",
       "      <td>18093.0</td>\n",
       "    </tr>\n",
       "    <tr>\n",
       "      <th>...</th>\n",
       "      <td>...</td>\n",
       "      <td>...</td>\n",
       "      <td>...</td>\n",
       "      <td>...</td>\n",
       "    </tr>\n",
       "    <tr>\n",
       "      <th>95</th>\n",
       "      <td>61</td>\n",
       "      <td>310</td>\n",
       "      <td>Female</td>\n",
       "      <td>81519.0</td>\n",
       "    </tr>\n",
       "    <tr>\n",
       "      <th>96</th>\n",
       "      <td>46</td>\n",
       "      <td>542</td>\n",
       "      <td>Male</td>\n",
       "      <td>17170.0</td>\n",
       "    </tr>\n",
       "    <tr>\n",
       "      <th>97</th>\n",
       "      <td>91</td>\n",
       "      <td>961</td>\n",
       "      <td>Male</td>\n",
       "      <td>54109.0</td>\n",
       "    </tr>\n",
       "    <tr>\n",
       "      <th>98</th>\n",
       "      <td>21</td>\n",
       "      <td>374</td>\n",
       "      <td>Female</td>\n",
       "      <td>53902.0</td>\n",
       "    </tr>\n",
       "    <tr>\n",
       "      <th>99</th>\n",
       "      <td>61</td>\n",
       "      <td>437</td>\n",
       "      <td>Male</td>\n",
       "      <td>NaN</td>\n",
       "    </tr>\n",
       "  </tbody>\n",
       "</table>\n",
       "<p>100 rows × 4 columns</p>\n",
       "</div>"
      ],
      "text/plain": [
       "    Age  Height  Gender   Salary\n",
       "0    83     187  Female  70324.0\n",
       "1    99     133  Female  61241.0\n",
       "2    67     149    None  99824.0\n",
       "3    81     182    Male  26634.0\n",
       "4    40     173    None  18093.0\n",
       "..  ...     ...     ...      ...\n",
       "95   61     310  Female  81519.0\n",
       "96   46     542    Male  17170.0\n",
       "97   91     961    Male  54109.0\n",
       "98   21     374  Female  53902.0\n",
       "99   61     437    Male      NaN\n",
       "\n",
       "[100 rows x 4 columns]"
      ]
     },
     "execution_count": 17,
     "metadata": {},
     "output_type": "execute_result"
    }
   ],
   "source": [
    "data = dataframe.copy()\n",
    "data"
   ]
  },
  {
   "cell_type": "markdown",
   "id": "6f251458",
   "metadata": {},
   "source": [
    "### Drop Duplicates"
   ]
  },
  {
   "cell_type": "code",
   "execution_count": 19,
   "id": "51553b22",
   "metadata": {},
   "outputs": [
    {
     "data": {
      "text/html": [
       "<div>\n",
       "<style scoped>\n",
       "    .dataframe tbody tr th:only-of-type {\n",
       "        vertical-align: middle;\n",
       "    }\n",
       "\n",
       "    .dataframe tbody tr th {\n",
       "        vertical-align: top;\n",
       "    }\n",
       "\n",
       "    .dataframe thead th {\n",
       "        text-align: right;\n",
       "    }\n",
       "</style>\n",
       "<table border=\"1\" class=\"dataframe\">\n",
       "  <thead>\n",
       "    <tr style=\"text-align: right;\">\n",
       "      <th></th>\n",
       "      <th>Age</th>\n",
       "      <th>Height</th>\n",
       "      <th>Gender</th>\n",
       "      <th>Salary</th>\n",
       "    </tr>\n",
       "  </thead>\n",
       "  <tbody>\n",
       "    <tr>\n",
       "      <th>0</th>\n",
       "      <td>83</td>\n",
       "      <td>187</td>\n",
       "      <td>Female</td>\n",
       "      <td>70324.0</td>\n",
       "    </tr>\n",
       "    <tr>\n",
       "      <th>1</th>\n",
       "      <td>99</td>\n",
       "      <td>133</td>\n",
       "      <td>Female</td>\n",
       "      <td>61241.0</td>\n",
       "    </tr>\n",
       "    <tr>\n",
       "      <th>2</th>\n",
       "      <td>67</td>\n",
       "      <td>149</td>\n",
       "      <td>None</td>\n",
       "      <td>99824.0</td>\n",
       "    </tr>\n",
       "    <tr>\n",
       "      <th>3</th>\n",
       "      <td>81</td>\n",
       "      <td>182</td>\n",
       "      <td>Male</td>\n",
       "      <td>26634.0</td>\n",
       "    </tr>\n",
       "    <tr>\n",
       "      <th>4</th>\n",
       "      <td>40</td>\n",
       "      <td>173</td>\n",
       "      <td>None</td>\n",
       "      <td>18093.0</td>\n",
       "    </tr>\n",
       "    <tr>\n",
       "      <th>...</th>\n",
       "      <td>...</td>\n",
       "      <td>...</td>\n",
       "      <td>...</td>\n",
       "      <td>...</td>\n",
       "    </tr>\n",
       "    <tr>\n",
       "      <th>95</th>\n",
       "      <td>61</td>\n",
       "      <td>310</td>\n",
       "      <td>Female</td>\n",
       "      <td>81519.0</td>\n",
       "    </tr>\n",
       "    <tr>\n",
       "      <th>96</th>\n",
       "      <td>46</td>\n",
       "      <td>542</td>\n",
       "      <td>Male</td>\n",
       "      <td>17170.0</td>\n",
       "    </tr>\n",
       "    <tr>\n",
       "      <th>97</th>\n",
       "      <td>91</td>\n",
       "      <td>961</td>\n",
       "      <td>Male</td>\n",
       "      <td>54109.0</td>\n",
       "    </tr>\n",
       "    <tr>\n",
       "      <th>98</th>\n",
       "      <td>21</td>\n",
       "      <td>374</td>\n",
       "      <td>Female</td>\n",
       "      <td>53902.0</td>\n",
       "    </tr>\n",
       "    <tr>\n",
       "      <th>99</th>\n",
       "      <td>61</td>\n",
       "      <td>437</td>\n",
       "      <td>Male</td>\n",
       "      <td>NaN</td>\n",
       "    </tr>\n",
       "  </tbody>\n",
       "</table>\n",
       "<p>100 rows × 4 columns</p>\n",
       "</div>"
      ],
      "text/plain": [
       "    Age  Height  Gender   Salary\n",
       "0    83     187  Female  70324.0\n",
       "1    99     133  Female  61241.0\n",
       "2    67     149    None  99824.0\n",
       "3    81     182    Male  26634.0\n",
       "4    40     173    None  18093.0\n",
       "..  ...     ...     ...      ...\n",
       "95   61     310  Female  81519.0\n",
       "96   46     542    Male  17170.0\n",
       "97   91     961    Male  54109.0\n",
       "98   21     374  Female  53902.0\n",
       "99   61     437    Male      NaN\n",
       "\n",
       "[100 rows x 4 columns]"
      ]
     },
     "execution_count": 19,
     "metadata": {},
     "output_type": "execute_result"
    }
   ],
   "source": [
    "data = data.drop_duplicates()\n",
    "data"
   ]
  },
  {
   "cell_type": "markdown",
   "id": "5eb08bc8",
   "metadata": {},
   "source": [
    "### Visualize Gender Column"
   ]
  },
  {
   "cell_type": "code",
   "execution_count": 22,
   "id": "27f87cb1",
   "metadata": {},
   "outputs": [
    {
     "data": {
      "image/png": "[encoded data removed]",
      "text/plain": [
       "<Figure size 800x500 with 1 Axes>"
      ]
     },
     "metadata": {},
     "output_type": "display_data"
    }
   ],
   "source": [
    "gender_counts = data['Gender'].value_counts()\n",
    "\n",
    "plt.figure(figsize=(8, 5))\n",
    "gender_counts.plot(kind='bar', color=['red', 'pink', 'skyblue'])\n",
    "plt.title('Gender Count')\n",
    "plt.xlabel('Gender')\n",
    "plt.ylabel('Count')\n",
    "plt.xticks(rotation=0)\n",
    "plt.show()"
   ]
  },
  {
   "cell_type": "markdown",
   "id": "d883e751",
   "metadata": {},
   "source": [
    "### Observations\n",
    "\n",
    "1. **Generation of `age` array (size 100, values 18–100)**  \n",
    "   - Generated an array with ages ranging from 18 to 100, representing the age of 100 individuals.\n",
    "\n",
    "2. **Creation of `salary` and `outlier` arrays**  \n",
    "   - The `salary` array was created with realistic salary values ranging from 1,000 to 10,000.  \n",
    "   - An additional `outlier` array contains extremely high values (300,000 to 1,000,000) to represent outliers in the dataset.\n",
    "\n",
    "3. **Concatenation of `salary` and `outlier` arrays**  \n",
    "   - Successfully concatenated the `salary` and `outlier` arrays, forming a new array with 100 values, including outliers at the end.\n",
    "\n",
    "4. **Creation of `gender` array**  \n",
    "   - Created a `gender` array with values: 'Male', 'Female', and 'None', indicating missing or undefined gender for some samples.\n",
    "\n",
    "5. **Adding values for every 10th sample**  \n",
    "   - Every 10th element in the `gender` array was updated with a specific value, introducing a consistent pattern.\n",
    "\n",
    "6. **Conversion of arrays to a DataFrame**  \n",
    "   - The arrays were converted into a dictionary and then into a DataFrame, structuring the data in tabular form for analysis.\n",
    "\n",
    "7. **Boxplot for `salary`, `age`, and `height`**  \n",
    "   - The `salary` boxplot revealed several outliers with values between 300,000 and 1,000,000.  \n",
    "   - The `age` boxplot displayed the distribution of ages between 18 and 100 without outliers.  \n",
    "   - The `height` boxplot highlighted the range of height values and potential outliers.\n",
    "\n",
    "8. **Scatterplot between `age-salary` and `age-height`**  \n",
    "   - The `age-salary` scatterplot revealed that most salaries were in the 1,000–10,000 range, with a few high-value outliers.  \n",
    "   - The `age-height` scatterplot showed a potential correlation between age and height.\n",
    "\n",
    "9. **Shape of the DataFrame**  \n",
    "   - The DataFrame shape was `(100, 4)`, confirming 100 rows and 4 columns.\n",
    "\n",
    "10. **Check for null/NaN values**  \n",
    "   - Found null values in the `gender` column, indicating missing data.\n",
    "\n",
    "11. **Dataset Info and Statistics**  \n",
    "   - The `info()` method displayed data types and memory usage.  \n",
    "   - The `describe()` method revealed summary statistics like mean, median, and quartiles for numerical columns.\n",
    "\n",
    "12. **Copy of the DataFrame**  \n",
    "   - Created a separate copy to preserve the original data.\n",
    "\n",
    "13. **Drop Duplicates**  \n",
    "   - Duplicate rows were removed successfully, ensuring no redundant data.\n",
    "\n",
    "14. **Visualization of Gender Count**  \n",
    "   - The bar chart visualized the count of each gender. It showed a balanced or imbalanced distribution of males, females, and missing values."
   ]
  }
 ],
 "metadata": {
  "kernelspec": {
   "display_name": "Python 3 (ipykernel)",
   "language": "python",
   "name": "python3"
  },
  "language_info": {
   "codemirror_mode": {
    "name": "ipython",
    "version": 3
   },
   "file_extension": ".py",
   "mimetype": "text/x-python",
   "name": "python",
   "nbconvert_exporter": "python",
   "pygments_lexer": "ipython3",
   "version": "3.10.0"
  }
 },
 "nbformat": 4,
 "nbformat_minor": 5
}
