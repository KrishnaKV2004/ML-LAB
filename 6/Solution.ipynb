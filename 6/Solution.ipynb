{
 "cells": [
  {
   "cell_type": "markdown",
   "id": "69a4310d-a7eb-4790-911d-ad7e14cce618",
   "metadata": {},
   "source": [
    "### Linear Regression [Scratch]"
   ]
  },
  {
   "cell_type": "markdown",
   "id": "1ae3aa1e-768b-4d6e-974d-07304a988acf",
   "metadata": {},
   "source": [
    "### Importing Libraries"
   ]
  },
  {
   "cell_type": "code",
   "execution_count": 2,
   "id": "d9f63f03-a06e-448c-921e-dbfbf5332845",
   "metadata": {},
   "outputs": [],
   "source": [
    "import pandas as pd\n",
    "import numpy as np\n",
    "import matplotlib.pyplot as plt"
   ]
  },
  {
   "cell_type": "markdown",
   "id": "b4c71c78-c852-4100-bcc9-f9c39343434f",
   "metadata": {},
   "source": [
    "### Generate Feature Matrix"
   ]
  },
  {
   "cell_type": "code",
   "execution_count": 13,
   "id": "7a0e3eb5-957b-49fd-ae8d-c294ce7f2afa",
   "metadata": {},
   "outputs": [
    {
     "data": {
      "text/plain": [
       "array([[3.74540119],\n",
       "       [9.50714306],\n",
       "       [7.31993942],\n",
       "       [5.98658484],\n",
       "       [1.5601864 ],\n",
       "       [1.5599452 ],\n",
       "       [0.58083612],\n",
       "       [8.66176146],\n",
       "       [6.01115012],\n",
       "       [7.08072578]])"
      ]
     },
     "execution_count": 13,
     "metadata": {},
     "output_type": "execute_result"
    }
   ],
   "source": [
    "np.random.seed(42)\n",
    "n = 100\n",
    "x_data = np.random.rand(n, 1) * 10\n",
    "x_data[:10]"
   ]
  },
  {
   "cell_type": "markdown",
   "id": "ab9cc4b1-aa03-4c1b-be4d-830dd0006d59",
   "metadata": {},
   "source": [
    "### Generating Noise Vector"
   ]
  },
  {
   "cell_type": "code",
   "execution_count": 14,
   "id": "4cc6a272-a167-4c5a-92c1-ad706addacfe",
   "metadata": {},
   "outputs": [
    {
     "data": {
      "text/plain": [
       "array([[ 0.17409414],\n",
       "       [-0.5980147 ],\n",
       "       [ 0.18352155],\n",
       "       [-3.97513783],\n",
       "       [-0.43934378],\n",
       "       [ 0.71422514],\n",
       "       [ 2.95578809],\n",
       "       [-1.03654044],\n",
       "       [-1.61698721],\n",
       "       [-1.00351409]])"
      ]
     },
     "execution_count": 14,
     "metadata": {},
     "output_type": "execute_result"
    }
   ],
   "source": [
    "noise = np.random.randn(n,1) * 2\n",
    "noise[:10]"
   ]
  },
  {
   "cell_type": "markdown",
   "id": "286b0db8-fb62-4ac8-b696-92dff4a37004",
   "metadata": {},
   "source": [
    "### Defining Parameters"
   ]
  },
  {
   "cell_type": "code",
   "execution_count": 26,
   "id": "982836d3-9a21-4fff-8729-0e7ee8b689b1",
   "metadata": {},
   "outputs": [
    {
     "data": {
      "text/plain": [
       "array([[26.64650127],\n",
       "       [60.44484368],\n",
       "       [48.10315806],\n",
       "       [35.94437122],\n",
       "       [12.92177465],\n",
       "       [14.07389636],\n",
       "       [10.44080482],\n",
       "       [54.93402831],\n",
       "       [38.4499135 ],\n",
       "       [45.48084058]])"
      ]
     },
     "execution_count": 26,
     "metadata": {},
     "output_type": "execute_result"
    }
   ],
   "source": [
    "b0 = np.random.randint(0, 10)\n",
    "b1 = np.random.randint(1, 10)\n",
    "y = b1 * x_data + b0 + noise\n",
    "y[:10]"
   ]
  },
  {
   "cell_type": "markdown",
   "id": "bc32d3c3-800c-4bd2-bcb9-27f6dacf913d",
   "metadata": {},
   "source": [
    "### Scatter Plot"
   ]
  },
  {
   "cell_type": "code",
   "execution_count": 27,
   "id": "c3ffc0cd-cec4-4c9c-9803-c5abea67e556",
   "metadata": {},
   "outputs": [
    {
     "data": {
      "image/png": "[encoded data removed]",
      "text/plain": [
       "<Figure size 640x480 with 1 Axes>"
      ]
     },
     "metadata": {},
     "output_type": "display_data"
    }
   ],
   "source": [
    "plt.scatter(X, y, label=\"Original Data\", color='blue')\n",
    "plt.xlabel(\"X (Feature)\")\n",
    "plt.ylabel(\"Y (Target)\")\n",
    "plt.title(\"Scatter Plot of Data\")\n",
    "plt.legend()\n",
    "plt.show()"
   ]
  },
  {
   "cell_type": "markdown",
   "id": "51235ec5-06f7-4e21-a014-871b8ef2e192",
   "metadata": {},
   "source": [
    "### Compute Required Summations"
   ]
  },
  {
   "cell_type": "code",
   "execution_count": 29,
   "id": "aadffd8f-a323-48b8-a07e-800c709b641e",
   "metadata": {},
   "outputs": [],
   "source": [
    "sum_x = np.sum(X)\n",
    "sum_y = np.sum(y)\n",
    "sum_xy = np.sum(X * y)\n",
    "sum_x2 = np.sum(X ** 2)"
   ]
  },
  {
   "cell_type": "markdown",
   "id": "88e9fc1d-1e23-4027-950f-ba0f54f24b49",
   "metadata": {},
   "source": [
    "### Compute b0 and b1 using formulas"
   ]
  },
  {
   "cell_type": "code",
   "execution_count": 30,
   "id": "746f77c7-769e-49d6-a40b-56552f6c35bd",
   "metadata": {},
   "outputs": [],
   "source": [
    "b1 = (n * sum_xy - sum_x * sum_y) / (n * sum_x2 - sum_x ** 2)\n",
    "b0 = (sum_y - b1 * sum_x) / n"
   ]
  },
  {
   "cell_type": "code",
   "execution_count": 31,
   "id": "6d359c7e-c804-439d-a1d3-c9a73e3893fd",
   "metadata": {},
   "outputs": [
    {
     "name": "stdout",
     "output_type": "stream",
     "text": [
      "Calculated Parameters: b1 = 5.9080, b0 = 4.4302\n"
     ]
    }
   ],
   "source": [
    "print(f\"Calculated Parameters: b1 = {b1:.4f}, b0 = {b0:.4f}\")"
   ]
  },
  {
   "cell_type": "markdown",
   "id": "7a8fa991-4bbf-4bde-b7d3-7d6ae0c95812",
   "metadata": {},
   "source": [
    "### Predicted Values"
   ]
  },
  {
   "cell_type": "code",
   "execution_count": 33,
   "id": "6dacefab-e686-4f79-82b1-03f760010ccc",
   "metadata": {},
   "outputs": [
    {
     "data": {
      "text/plain": [
       "array([[26.55819241],\n",
       "       [60.59882473],\n",
       "       [47.67672639],\n",
       "       [39.79920708],\n",
       "       [13.64784435],\n",
       "       [13.64641933],\n",
       "       [ 7.86179847],\n",
       "       [55.60427186],\n",
       "       [39.94433984],\n",
       "       [46.26344135]])"
      ]
     },
     "execution_count": 33,
     "metadata": {},
     "output_type": "execute_result"
    }
   ],
   "source": [
    "y_pred = b0 + b1 * X\n",
    "y_pred[:10]"
   ]
  },
  {
   "cell_type": "markdown",
   "id": "d81ed881-2f65-4aec-9748-d849c3908a92",
   "metadata": {},
   "source": [
    "### Mean Squared Error"
   ]
  },
  {
   "cell_type": "code",
   "execution_count": 34,
   "id": "4d6e2923-81bc-41a5-8128-c35c335d7d3e",
   "metadata": {},
   "outputs": [
    {
     "name": "stdout",
     "output_type": "stream",
     "text": [
      "Mean Squared Error: 3.2263\n"
     ]
    }
   ],
   "source": [
    "error = np.mean((y - y_pred) ** 2)\n",
    "print(f\"Mean Squared Error: {error:.4f}\")"
   ]
  },
  {
   "cell_type": "markdown",
   "id": "1d3b9083-3b43-4beb-b3ac-2be0c0c912e7",
   "metadata": {},
   "source": [
    "### Plotting Regression Line"
   ]
  },
  {
   "cell_type": "code",
   "execution_count": 35,
   "id": "cf30cce8-e375-45a6-aa4c-1402b6caac86",
   "metadata": {},
   "outputs": [
    {
     "data": {
      "image/png": "[encoded data removed]",
      "text/plain": [
       "<Figure size 640x480 with 1 Axes>"
      ]
     },
     "metadata": {},
     "output_type": "display_data"
    }
   ],
   "source": [
    "plt.scatter(X, y, label=\"Original Data\", color='blue', alpha=0.5)\n",
    "plt.plot(X, y_pred, color='red', label=\"Regression Line\")\n",
    "plt.xlabel(\"X (Feature)\")\n",
    "plt.ylabel(\"Y (Target)\")\n",
    "plt.title(\"Linear Regression Fit\")\n",
    "plt.legend()\n",
    "plt.show()"
   ]
  }
 ],
 "metadata": {
  "kernelspec": {
   "display_name": "Python (env)",
   "language": "python",
   "name": "env"
  },
  "language_info": {
   "codemirror_mode": {
    "name": "ipython",
    "version": 3
   },
   "file_extension": ".py",
   "mimetype": "text/x-python",
   "name": "python",
   "nbconvert_exporter": "python",
   "pygments_lexer": "ipython3",
   "version": "3.10.0"
  }
 },
 "nbformat": 4,
 "nbformat_minor": 5
}
