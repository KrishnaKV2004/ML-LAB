{
 "cells": [
  {
   "cell_type": "markdown",
   "id": "d7dcf0b8-ae80-4b31-b440-bf9ffb2fac13",
   "metadata": {},
   "source": [
    "### Problem Statement\n",
    "\n",
    "1. Read the given dataset in the DataFrame.\n",
    "2. Display the names of the columns of the DataFrame.\n",
    "3. Store the gender and age_group column in list named features and exercise column\n",
    "   in a list named exercise.\n",
    "4. Apply One Hot Encoding to the gender and age_group columns using code from scratch.\n",
    "5. Apply One Hot Encoding to the gender and age_group columns using library.\n",
    "6. Apply Label Encoding to exercise column.\n",
    "7. Compare the results obtained in One-Hot Encoding in both the cases."
   ]
  },
  {
   "cell_type": "markdown",
   "id": "5cd3e18e-3728-4ef8-8df0-33ba0d4d54d4",
   "metadata": {},
   "source": [
    "### Importing Libraries"
   ]
  },
  {
   "cell_type": "code",
   "execution_count": 46,
   "id": "df0d1a9d-7da4-4c51-ac8f-b02ecde45f91",
   "metadata": {},
   "outputs": [],
   "source": [
    "import pandas as pd\n",
    "import numpy as np\n",
    "from sklearn.preprocessing import LabelEncoder"
   ]
  },
  {
   "cell_type": "markdown",
   "id": "7dd98931-97e3-46dd-b3ae-dfc605f5fb4c",
   "metadata": {},
   "source": [
    "### Importing Dataset"
   ]
  },
  {
   "cell_type": "code",
   "execution_count": 47,
   "id": "364ae321-dfd6-451f-98cf-8d45e128be60",
   "metadata": {},
   "outputs": [
    {
     "data": {
      "text/html": [
       "<div>\n",
       "<style scoped>\n",
       "    .dataframe tbody tr th:only-of-type {\n",
       "        vertical-align: middle;\n",
       "    }\n",
       "\n",
       "    .dataframe tbody tr th {\n",
       "        vertical-align: top;\n",
       "    }\n",
       "\n",
       "    .dataframe thead th {\n",
       "        text-align: right;\n",
       "    }\n",
       "</style>\n",
       "<table border=\"1\" class=\"dataframe\">\n",
       "  <thead>\n",
       "    <tr style=\"text-align: right;\">\n",
       "      <th></th>\n",
       "      <th>gender</th>\n",
       "      <th>age_group</th>\n",
       "      <th>exercise</th>\n",
       "    </tr>\n",
       "  </thead>\n",
       "  <tbody>\n",
       "    <tr>\n",
       "      <th>0</th>\n",
       "      <td>male</td>\n",
       "      <td>child</td>\n",
       "      <td>alternate</td>\n",
       "    </tr>\n",
       "    <tr>\n",
       "      <th>1</th>\n",
       "      <td>female</td>\n",
       "      <td>senior</td>\n",
       "      <td>alternate</td>\n",
       "    </tr>\n",
       "    <tr>\n",
       "      <th>2</th>\n",
       "      <td>male</td>\n",
       "      <td>teen</td>\n",
       "      <td>weekly</td>\n",
       "    </tr>\n",
       "    <tr>\n",
       "      <th>3</th>\n",
       "      <td>male</td>\n",
       "      <td>teen</td>\n",
       "      <td>daily</td>\n",
       "    </tr>\n",
       "    <tr>\n",
       "      <th>4</th>\n",
       "      <td>male</td>\n",
       "      <td>adult</td>\n",
       "      <td>weekly</td>\n",
       "    </tr>\n",
       "    <tr>\n",
       "      <th>5</th>\n",
       "      <td>female</td>\n",
       "      <td>teen</td>\n",
       "      <td>daily</td>\n",
       "    </tr>\n",
       "    <tr>\n",
       "      <th>6</th>\n",
       "      <td>male</td>\n",
       "      <td>adult</td>\n",
       "      <td>weekly</td>\n",
       "    </tr>\n",
       "    <tr>\n",
       "      <th>7</th>\n",
       "      <td>male</td>\n",
       "      <td>child</td>\n",
       "      <td>alternate</td>\n",
       "    </tr>\n",
       "    <tr>\n",
       "      <th>8</th>\n",
       "      <td>male</td>\n",
       "      <td>teen</td>\n",
       "      <td>alternate</td>\n",
       "    </tr>\n",
       "    <tr>\n",
       "      <th>9</th>\n",
       "      <td>male</td>\n",
       "      <td>adult</td>\n",
       "      <td>daily</td>\n",
       "    </tr>\n",
       "  </tbody>\n",
       "</table>\n",
       "</div>"
      ],
      "text/plain": [
       "   gender age_group   exercise\n",
       "0    male     child  alternate\n",
       "1  female    senior  alternate\n",
       "2    male      teen     weekly\n",
       "3    male      teen      daily\n",
       "4    male     adult     weekly\n",
       "5  female      teen      daily\n",
       "6    male     adult     weekly\n",
       "7    male     child  alternate\n",
       "8    male      teen  alternate\n",
       "9    male     adult      daily"
      ]
     },
     "execution_count": 47,
     "metadata": {},
     "output_type": "execute_result"
    }
   ],
   "source": [
    "data = pd.read_csv('Data/Age.csv')\n",
    "data.head(10)"
   ]
  },
  {
   "cell_type": "markdown",
   "id": "61941e89-7c61-465f-af83-babf1fc10192",
   "metadata": {},
   "source": [
    "### Display Names of Columns"
   ]
  },
  {
   "cell_type": "code",
   "execution_count": 48,
   "id": "b102ad2f-c775-43c6-82ac-cb3afdacf235",
   "metadata": {},
   "outputs": [
    {
     "data": {
      "text/plain": [
       "Index(['gender', 'age_group', 'exercise'], dtype='object')"
      ]
     },
     "execution_count": 48,
     "metadata": {},
     "output_type": "execute_result"
    }
   ],
   "source": [
    "data.columns"
   ]
  },
  {
   "cell_type": "markdown",
   "id": "2ae51a85-787f-4a6b-9c8a-c0de228025f9",
   "metadata": {},
   "source": [
    "### Extracting Features In a List"
   ]
  },
  {
   "cell_type": "code",
   "execution_count": 49,
   "id": "3d4dbf4d-b8ee-4e86-8ecb-dd859d041b4d",
   "metadata": {},
   "outputs": [],
   "source": [
    "features = data[['gender','age_group']].values.tolist()\n",
    "exercise = data['exercise'].tolist()"
   ]
  },
  {
   "cell_type": "code",
   "execution_count": 50,
   "id": "dd71f454-7eba-4ee6-9e23-8f35c4a3a8ed",
   "metadata": {},
   "outputs": [
    {
     "data": {
      "text/plain": [
       "[['male', 'child'],\n",
       " ['female', 'senior'],\n",
       " ['male', 'teen'],\n",
       " ['male', 'teen'],\n",
       " ['male', 'adult'],\n",
       " ['female', 'teen'],\n",
       " ['male', 'adult'],\n",
       " ['male', 'child'],\n",
       " ['male', 'teen'],\n",
       " ['male', 'adult']]"
      ]
     },
     "execution_count": 50,
     "metadata": {},
     "output_type": "execute_result"
    }
   ],
   "source": [
    "features[:10]"
   ]
  },
  {
   "cell_type": "code",
   "execution_count": 51,
   "id": "76235df9-d518-4891-9ca0-5f60fa64e161",
   "metadata": {},
   "outputs": [
    {
     "data": {
      "text/plain": [
       "['alternate',\n",
       " 'alternate',\n",
       " 'weekly',\n",
       " 'daily',\n",
       " 'weekly',\n",
       " 'daily',\n",
       " 'weekly',\n",
       " 'alternate',\n",
       " 'alternate',\n",
       " 'daily']"
      ]
     },
     "execution_count": 51,
     "metadata": {},
     "output_type": "execute_result"
    }
   ],
   "source": [
    "exercise[:10]"
   ]
  },
  {
   "cell_type": "markdown",
   "id": "8e6406aa-e358-4204-9a90-4b67e7a49d71",
   "metadata": {},
   "source": [
    "### Encoding Scratch"
   ]
  },
  {
   "cell_type": "code",
   "execution_count": 52,
   "id": "2793c82e-b6b2-4cda-b9c9-077712054a0e",
   "metadata": {},
   "outputs": [],
   "source": [
    "gender_map = {'male': 0, 'female': 1}\n",
    "age_group_map = {'child': 0, 'senior': 1, 'teen': 2, 'adult':3}\n",
    "\n",
    "encoded = []\n",
    "\n",
    "for row in features:\n",
    "    gender_encoded = [1 if i == gender_map[row[0]] else 0 for i in range(len(gender_map))]\n",
    "    age_group_encoded = [1 if i == age_group_map[row[1]] else 0 for i in range(len(age_group_map))]\n",
    "    encoded.append(gender_encoded + age_group_encoded)\n",
    "\n",
    "encoded = pd.DataFrame(encoded, columns=[\n",
    "    'gender_male', 'gender_female', 'age_group_child', 'age_group_senior', 'age_group_teen', 'age_group_adult'\n",
    "])"
   ]
  },
  {
   "cell_type": "code",
   "execution_count": 53,
   "id": "7675482f-7b78-4fa5-9c53-be5b87dcf37d",
   "metadata": {},
   "outputs": [
    {
     "data": {
      "text/html": [
       "<div>\n",
       "<style scoped>\n",
       "    .dataframe tbody tr th:only-of-type {\n",
       "        vertical-align: middle;\n",
       "    }\n",
       "\n",
       "    .dataframe tbody tr th {\n",
       "        vertical-align: top;\n",
       "    }\n",
       "\n",
       "    .dataframe thead th {\n",
       "        text-align: right;\n",
       "    }\n",
       "</style>\n",
       "<table border=\"1\" class=\"dataframe\">\n",
       "  <thead>\n",
       "    <tr style=\"text-align: right;\">\n",
       "      <th></th>\n",
       "      <th>gender_male</th>\n",
       "      <th>gender_female</th>\n",
       "      <th>age_group_child</th>\n",
       "      <th>age_group_senior</th>\n",
       "      <th>age_group_teen</th>\n",
       "      <th>age_group_adult</th>\n",
       "    </tr>\n",
       "  </thead>\n",
       "  <tbody>\n",
       "    <tr>\n",
       "      <th>0</th>\n",
       "      <td>1</td>\n",
       "      <td>0</td>\n",
       "      <td>1</td>\n",
       "      <td>0</td>\n",
       "      <td>0</td>\n",
       "      <td>0</td>\n",
       "    </tr>\n",
       "    <tr>\n",
       "      <th>1</th>\n",
       "      <td>0</td>\n",
       "      <td>1</td>\n",
       "      <td>0</td>\n",
       "      <td>1</td>\n",
       "      <td>0</td>\n",
       "      <td>0</td>\n",
       "    </tr>\n",
       "    <tr>\n",
       "      <th>2</th>\n",
       "      <td>1</td>\n",
       "      <td>0</td>\n",
       "      <td>0</td>\n",
       "      <td>0</td>\n",
       "      <td>1</td>\n",
       "      <td>0</td>\n",
       "    </tr>\n",
       "    <tr>\n",
       "      <th>3</th>\n",
       "      <td>1</td>\n",
       "      <td>0</td>\n",
       "      <td>0</td>\n",
       "      <td>0</td>\n",
       "      <td>1</td>\n",
       "      <td>0</td>\n",
       "    </tr>\n",
       "    <tr>\n",
       "      <th>4</th>\n",
       "      <td>1</td>\n",
       "      <td>0</td>\n",
       "      <td>0</td>\n",
       "      <td>0</td>\n",
       "      <td>0</td>\n",
       "      <td>1</td>\n",
       "    </tr>\n",
       "    <tr>\n",
       "      <th>5</th>\n",
       "      <td>0</td>\n",
       "      <td>1</td>\n",
       "      <td>0</td>\n",
       "      <td>0</td>\n",
       "      <td>1</td>\n",
       "      <td>0</td>\n",
       "    </tr>\n",
       "    <tr>\n",
       "      <th>6</th>\n",
       "      <td>1</td>\n",
       "      <td>0</td>\n",
       "      <td>0</td>\n",
       "      <td>0</td>\n",
       "      <td>0</td>\n",
       "      <td>1</td>\n",
       "    </tr>\n",
       "    <tr>\n",
       "      <th>7</th>\n",
       "      <td>1</td>\n",
       "      <td>0</td>\n",
       "      <td>1</td>\n",
       "      <td>0</td>\n",
       "      <td>0</td>\n",
       "      <td>0</td>\n",
       "    </tr>\n",
       "    <tr>\n",
       "      <th>8</th>\n",
       "      <td>1</td>\n",
       "      <td>0</td>\n",
       "      <td>0</td>\n",
       "      <td>0</td>\n",
       "      <td>1</td>\n",
       "      <td>0</td>\n",
       "    </tr>\n",
       "    <tr>\n",
       "      <th>9</th>\n",
       "      <td>1</td>\n",
       "      <td>0</td>\n",
       "      <td>0</td>\n",
       "      <td>0</td>\n",
       "      <td>0</td>\n",
       "      <td>1</td>\n",
       "    </tr>\n",
       "  </tbody>\n",
       "</table>\n",
       "</div>"
      ],
      "text/plain": [
       "   gender_male  gender_female  age_group_child  age_group_senior  \\\n",
       "0            1              0                1                 0   \n",
       "1            0              1                0                 1   \n",
       "2            1              0                0                 0   \n",
       "3            1              0                0                 0   \n",
       "4            1              0                0                 0   \n",
       "5            0              1                0                 0   \n",
       "6            1              0                0                 0   \n",
       "7            1              0                1                 0   \n",
       "8            1              0                0                 0   \n",
       "9            1              0                0                 0   \n",
       "\n",
       "   age_group_teen  age_group_adult  \n",
       "0               0                0  \n",
       "1               0                0  \n",
       "2               1                0  \n",
       "3               1                0  \n",
       "4               0                1  \n",
       "5               1                0  \n",
       "6               0                1  \n",
       "7               0                0  \n",
       "8               1                0  \n",
       "9               0                1  "
      ]
     },
     "execution_count": 53,
     "metadata": {},
     "output_type": "execute_result"
    }
   ],
   "source": [
    "encoded.head(10)"
   ]
  },
  {
   "cell_type": "markdown",
   "id": "d841abb6-9139-47ef-a0ad-9d2b6f99ed63",
   "metadata": {},
   "source": [
    "### Encoding Features"
   ]
  },
  {
   "cell_type": "code",
   "execution_count": 54,
   "id": "29e20a71-619b-4fac-a8b0-616ddfca3d2f",
   "metadata": {},
   "outputs": [
    {
     "data": {
      "text/html": [
       "<div>\n",
       "<style scoped>\n",
       "    .dataframe tbody tr th:only-of-type {\n",
       "        vertical-align: middle;\n",
       "    }\n",
       "\n",
       "    .dataframe tbody tr th {\n",
       "        vertical-align: top;\n",
       "    }\n",
       "\n",
       "    .dataframe thead th {\n",
       "        text-align: right;\n",
       "    }\n",
       "</style>\n",
       "<table border=\"1\" class=\"dataframe\">\n",
       "  <thead>\n",
       "    <tr style=\"text-align: right;\">\n",
       "      <th></th>\n",
       "      <th>exercise</th>\n",
       "      <th>gender_female</th>\n",
       "      <th>gender_male</th>\n",
       "      <th>age_group_adult</th>\n",
       "      <th>age_group_child</th>\n",
       "      <th>age_group_senior</th>\n",
       "      <th>age_group_teen</th>\n",
       "    </tr>\n",
       "  </thead>\n",
       "  <tbody>\n",
       "    <tr>\n",
       "      <th>0</th>\n",
       "      <td>alternate</td>\n",
       "      <td>False</td>\n",
       "      <td>True</td>\n",
       "      <td>False</td>\n",
       "      <td>True</td>\n",
       "      <td>False</td>\n",
       "      <td>False</td>\n",
       "    </tr>\n",
       "    <tr>\n",
       "      <th>1</th>\n",
       "      <td>alternate</td>\n",
       "      <td>True</td>\n",
       "      <td>False</td>\n",
       "      <td>False</td>\n",
       "      <td>False</td>\n",
       "      <td>True</td>\n",
       "      <td>False</td>\n",
       "    </tr>\n",
       "    <tr>\n",
       "      <th>2</th>\n",
       "      <td>weekly</td>\n",
       "      <td>False</td>\n",
       "      <td>True</td>\n",
       "      <td>False</td>\n",
       "      <td>False</td>\n",
       "      <td>False</td>\n",
       "      <td>True</td>\n",
       "    </tr>\n",
       "    <tr>\n",
       "      <th>3</th>\n",
       "      <td>daily</td>\n",
       "      <td>False</td>\n",
       "      <td>True</td>\n",
       "      <td>False</td>\n",
       "      <td>False</td>\n",
       "      <td>False</td>\n",
       "      <td>True</td>\n",
       "    </tr>\n",
       "    <tr>\n",
       "      <th>4</th>\n",
       "      <td>weekly</td>\n",
       "      <td>False</td>\n",
       "      <td>True</td>\n",
       "      <td>True</td>\n",
       "      <td>False</td>\n",
       "      <td>False</td>\n",
       "      <td>False</td>\n",
       "    </tr>\n",
       "    <tr>\n",
       "      <th>...</th>\n",
       "      <td>...</td>\n",
       "      <td>...</td>\n",
       "      <td>...</td>\n",
       "      <td>...</td>\n",
       "      <td>...</td>\n",
       "      <td>...</td>\n",
       "      <td>...</td>\n",
       "    </tr>\n",
       "    <tr>\n",
       "      <th>95</th>\n",
       "      <td>daily</td>\n",
       "      <td>True</td>\n",
       "      <td>False</td>\n",
       "      <td>False</td>\n",
       "      <td>False</td>\n",
       "      <td>True</td>\n",
       "      <td>False</td>\n",
       "    </tr>\n",
       "    <tr>\n",
       "      <th>96</th>\n",
       "      <td>weekly</td>\n",
       "      <td>True</td>\n",
       "      <td>False</td>\n",
       "      <td>False</td>\n",
       "      <td>False</td>\n",
       "      <td>True</td>\n",
       "      <td>False</td>\n",
       "    </tr>\n",
       "    <tr>\n",
       "      <th>97</th>\n",
       "      <td>alternate</td>\n",
       "      <td>False</td>\n",
       "      <td>True</td>\n",
       "      <td>False</td>\n",
       "      <td>False</td>\n",
       "      <td>True</td>\n",
       "      <td>False</td>\n",
       "    </tr>\n",
       "    <tr>\n",
       "      <th>98</th>\n",
       "      <td>daily</td>\n",
       "      <td>True</td>\n",
       "      <td>False</td>\n",
       "      <td>False</td>\n",
       "      <td>False</td>\n",
       "      <td>True</td>\n",
       "      <td>False</td>\n",
       "    </tr>\n",
       "    <tr>\n",
       "      <th>99</th>\n",
       "      <td>daily</td>\n",
       "      <td>False</td>\n",
       "      <td>True</td>\n",
       "      <td>True</td>\n",
       "      <td>False</td>\n",
       "      <td>False</td>\n",
       "      <td>False</td>\n",
       "    </tr>\n",
       "  </tbody>\n",
       "</table>\n",
       "<p>100 rows × 7 columns</p>\n",
       "</div>"
      ],
      "text/plain": [
       "     exercise  gender_female  gender_male  age_group_adult  age_group_child  \\\n",
       "0   alternate          False         True            False             True   \n",
       "1   alternate           True        False            False            False   \n",
       "2      weekly          False         True            False            False   \n",
       "3       daily          False         True            False            False   \n",
       "4      weekly          False         True             True            False   \n",
       "..        ...            ...          ...              ...              ...   \n",
       "95      daily           True        False            False            False   \n",
       "96     weekly           True        False            False            False   \n",
       "97  alternate          False         True            False            False   \n",
       "98      daily           True        False            False            False   \n",
       "99      daily          False         True             True            False   \n",
       "\n",
       "    age_group_senior  age_group_teen  \n",
       "0              False           False  \n",
       "1               True           False  \n",
       "2              False            True  \n",
       "3              False            True  \n",
       "4              False           False  \n",
       "..               ...             ...  \n",
       "95              True           False  \n",
       "96              True           False  \n",
       "97              True           False  \n",
       "98              True           False  \n",
       "99             False           False  \n",
       "\n",
       "[100 rows x 7 columns]"
      ]
     },
     "execution_count": 54,
     "metadata": {},
     "output_type": "execute_result"
    }
   ],
   "source": [
    "encoded_features = pd.get_dummies(data, columns=['gender','age_group'])\n",
    "encoded_features"
   ]
  },
  {
   "cell_type": "markdown",
   "id": "97ead0a9-8f37-4653-ba9d-f8898c6544ef",
   "metadata": {},
   "source": [
    "### Label Encoding (Scratch)"
   ]
  },
  {
   "cell_type": "code",
   "execution_count": 64,
   "id": "8c726dd1-80f5-4b65-b07d-c13c9964e4ca",
   "metadata": {},
   "outputs": [],
   "source": [
    "exercise_map = {'alternate': 0, 'daily': 1, 'weekly': 2}\n",
    "\n",
    "encoded_exercise = []\n",
    "\n",
    "for row in exercise:\n",
    "    if row in exercise_map:\n",
    "        encoded_exercise.append(exercise_map[row])"
   ]
  },
  {
   "cell_type": "code",
   "execution_count": 65,
   "id": "6223e9d7-81d2-4fe4-8b0c-fc2094295afd",
   "metadata": {},
   "outputs": [
    {
     "data": {
      "text/plain": [
       "[0, 0, 2, 1, 2, 1, 2, 0, 0, 1]"
      ]
     },
     "execution_count": 65,
     "metadata": {},
     "output_type": "execute_result"
    }
   ],
   "source": [
    "encoded_exercise[:10]"
   ]
  },
  {
   "cell_type": "markdown",
   "id": "4906199d-32b6-4f6d-9d70-e2362e284fa2",
   "metadata": {},
   "source": [
    "### Label Encoding"
   ]
  },
  {
   "cell_type": "code",
   "execution_count": 57,
   "id": "b3528b01-4bf6-4688-a562-6a10e58fa0aa",
   "metadata": {},
   "outputs": [
    {
     "data": {
      "text/plain": [
       "array([0, 0, 2, 1, 2, 1, 2, 0, 0, 1, 1, 1, 0, 0, 2, 0, 1, 2, 1, 2, 2, 2,\n",
       "       1, 1, 2, 1, 2, 0, 2, 1, 2, 2, 0, 2, 1, 0, 0, 2, 1, 1, 1, 1, 2, 0,\n",
       "       1, 2, 2, 1, 2, 1, 0, 0, 2, 1, 2, 0, 0, 1, 2, 1, 2, 0, 1, 1, 1, 0,\n",
       "       2, 0, 0, 2, 0, 2, 2, 2, 1, 2, 0, 1, 1, 2, 1, 1, 2, 0, 1, 1, 1, 1,\n",
       "       2, 1, 0, 2, 2, 0, 2, 1, 2, 0, 1, 1], dtype=int64)"
      ]
     },
     "execution_count": 57,
     "metadata": {},
     "output_type": "execute_result"
    }
   ],
   "source": [
    "encoder = LabelEncoder()\n",
    "encoded_exercise = encoder.fit_transform(exercise)\n",
    "encoded_exercise"
   ]
  }
 ],
 "metadata": {
  "kernelspec": {
   "display_name": "Python 3 (ipykernel)",
   "language": "python",
   "name": "python3"
  },
  "language_info": {
   "codemirror_mode": {
    "name": "ipython",
    "version": 3
   },
   "file_extension": ".py",
   "mimetype": "text/x-python",
   "name": "python",
   "nbconvert_exporter": "python",
   "pygments_lexer": "ipython3",
   "version": "3.10.0"
  }
 },
 "nbformat": 4,
 "nbformat_minor": 5
}
